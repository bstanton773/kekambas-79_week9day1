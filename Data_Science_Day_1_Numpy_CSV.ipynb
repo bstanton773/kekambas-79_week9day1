{
 "cells": [
  {
   "cell_type": "markdown",
   "metadata": {},
   "source": [
    "# Data Science Numpy & CSV's"
   ]
  },
  {
   "cell_type": "markdown",
   "metadata": {},
   "source": [
    "## Tasks Today:\n",
    "\n",
    "1) <b>Numpy</b> <br>\n",
    " &nbsp;&nbsp;&nbsp;&nbsp; a) Python List Comparison <br>\n",
    " &nbsp;&nbsp;&nbsp;&nbsp; b) In-Class Exercise #1 <br>\n",
    " &nbsp;&nbsp;&nbsp;&nbsp; c) Importing <br>\n",
    " &nbsp;&nbsp;&nbsp;&nbsp; d) Creating an NDArray <br>\n",
    " &nbsp;&nbsp;&nbsp;&nbsp;&nbsp;&nbsp;&nbsp;&nbsp; - np.array() <br>\n",
    " &nbsp;&nbsp;&nbsp;&nbsp;&nbsp;&nbsp;&nbsp;&nbsp; - np.zeros() <br>\n",
    " &nbsp;&nbsp;&nbsp;&nbsp;&nbsp;&nbsp;&nbsp;&nbsp; - np.ones() <br>\n",
    " &nbsp;&nbsp;&nbsp;&nbsp;&nbsp;&nbsp;&nbsp;&nbsp; - np.arange() <br>\n",
    " &nbsp;&nbsp;&nbsp;&nbsp;&nbsp;&nbsp;&nbsp;&nbsp; - Making Lists into NDArrays <br>\n",
    " &nbsp;&nbsp;&nbsp;&nbsp; e) Performing Calculations on NDArrays <br>\n",
    " &nbsp;&nbsp;&nbsp;&nbsp;&nbsp;&nbsp;&nbsp;&nbsp; - Summation <br>\n",
    " &nbsp;&nbsp;&nbsp;&nbsp;&nbsp;&nbsp;&nbsp;&nbsp; - Difference <br>\n",
    " &nbsp;&nbsp;&nbsp;&nbsp;&nbsp;&nbsp;&nbsp;&nbsp; - Multiplication <br>\n",
    " &nbsp;&nbsp;&nbsp;&nbsp;&nbsp;&nbsp;&nbsp;&nbsp; - Division <br>\n",
    " &nbsp;&nbsp;&nbsp;&nbsp; f) Numpy Subsetting <br>\n",
    " &nbsp;&nbsp;&nbsp;&nbsp; g) Multi-dimensional Arrays <br>\n",
    " &nbsp;&nbsp;&nbsp;&nbsp; h) Indexing NDArrays <br>\n",
    " &nbsp;&nbsp;&nbsp;&nbsp; i) Checking NDArray Type <br>\n",
    " &nbsp;&nbsp;&nbsp;&nbsp; j) Altering NDArray Type <br>\n",
    " &nbsp;&nbsp;&nbsp;&nbsp; k) Checking the Shape <br>\n",
    " &nbsp;&nbsp;&nbsp;&nbsp; l) Altering the Shape <br>\n",
    " &nbsp;&nbsp;&nbsp;&nbsp; m) In-Class Exercise #2 <br>\n",
    " &nbsp;&nbsp;&nbsp;&nbsp; n) Complex Indexing & Assigning <br>\n",
    " &nbsp;&nbsp;&nbsp;&nbsp; o) Elementwise Multplication <br>\n",
    " &nbsp;&nbsp;&nbsp;&nbsp; p) np.where() <br>\n",
    " &nbsp;&nbsp;&nbsp;&nbsp; q) Random Sampling <br>\n",
    "\n",
    "2) <b>Working With CSV's</b> <br>\n",
    " &nbsp;&nbsp;&nbsp;&nbsp; a) Imports <br>\n",
    " &nbsp;&nbsp;&nbsp;&nbsp; b) Reading a CSV <br>\n",
    " &nbsp;&nbsp;&nbsp;&nbsp; c) Loading a CSV's Data <br>\n",
    " &nbsp;&nbsp;&nbsp;&nbsp; d) Checking Number of Records <br>\n",
    " \n",
    "3) <b>Exercises</b> <br>\n",
    " &nbsp;&nbsp;&nbsp;&nbsp; a) #1 - Calculate BMI with NDArrays <br>\n",
    " &nbsp;&nbsp;&nbsp;&nbsp; b) #2 - Find the Average Sum of Marathon Runners <br>\n",
    " &nbsp;&nbsp;&nbsp;&nbsp; c) #3 - Random Matrix Function <br>\n",
    " &nbsp;&nbsp;&nbsp;&nbsp; d) #4 - Comparing Boston Red Sox Hitting Numbers <br>"
   ]
  },
  {
   "cell_type": "markdown",
   "metadata": {},
   "source": [
    "## Numpy <br>\n",
    "\n",
    "<p>NumPy is a library for the Python programming language, adding support for large, multi-dimensional arrays and matrices, along with a large collection of high-level mathematical functions to operate on these arrays.</p>\n",
    "<ul>\n",
    "    <li>Shape = Rows & Columns</li>\n",
    "    <li>Matrix = Entire Array</li>\n",
    "    <li>Vector = Variables to be applied (same vector as the one used in physics)</li>\n",
    "    <li>Array = Similar to lists</li>\n",
    "</ul>"
   ]
  },
  {
   "cell_type": "markdown",
   "metadata": {},
   "source": [
    "#### Python List Comparison"
   ]
  },
  {
   "cell_type": "markdown",
   "metadata": {},
   "source": [
    "<p>Lists are flexible, dynamic python objects that do their job quite well. But they do not support some mathematical operations in an intuitive way. Consider the summation of two lists, $l_1$ and $l_2$</p>"
   ]
  },
  {
   "cell_type": "code",
   "execution_count": 2,
   "metadata": {},
   "outputs": [
    {
     "name": "stdout",
     "output_type": "stream",
     "text": [
      "Summation of a regular python list: [1, 2, 3, 4, 5, 6]\n"
     ]
    },
    {
     "ename": "TypeError",
     "evalue": "unsupported operand type(s) for -: 'list' and 'list'",
     "output_type": "error",
     "traceback": [
      "\u001b[1;31m---------------------------------------------------------------------------\u001b[0m",
      "\u001b[1;31mTypeError\u001b[0m                                 Traceback (most recent call last)",
      "\u001b[1;32m<ipython-input-2-4c4b23e865b5>\u001b[0m in \u001b[0;36m<module>\u001b[1;34m\u001b[0m\n\u001b[0;32m      4\u001b[0m \u001b[1;33m\u001b[0m\u001b[0m\n\u001b[0;32m      5\u001b[0m \u001b[0mprint\u001b[0m\u001b[1;33m(\u001b[0m\u001b[1;34mf\"Summation of a regular python list: {l_1 + l_2}\"\u001b[0m\u001b[1;33m)\u001b[0m\u001b[1;33m\u001b[0m\u001b[1;33m\u001b[0m\u001b[0m\n\u001b[1;32m----> 6\u001b[1;33m \u001b[0mprint\u001b[0m\u001b[1;33m(\u001b[0m\u001b[1;34mf\"Difference of a regular python list: {l_1 - l_2}\"\u001b[0m\u001b[1;33m)\u001b[0m\u001b[1;33m\u001b[0m\u001b[1;33m\u001b[0m\u001b[0m\n\u001b[0m",
      "\u001b[1;31mTypeError\u001b[0m: unsupported operand type(s) for -: 'list' and 'list'"
     ]
    }
   ],
   "source": [
    "# create two lists and sum both of them together (results may not be what you expect)\n",
    "l_1 = [1, 2, 3]\n",
    "l_2 = [4, 5, 6]\n",
    "\n",
    "print(f\"Summation of a regular python list: {l_1 + l_2}\")\n",
    "print(f\"Difference of a regular python list: {l_1 - l_2}\")"
   ]
  },
  {
   "cell_type": "markdown",
   "metadata": {},
   "source": [
    "<p>If we wanted to sum lists elementwise, we could write our own function that does the job entirely within the framework of python</p>"
   ]
  },
  {
   "cell_type": "markdown",
   "metadata": {},
   "source": [
    "#### In-Class Exercise #1 - Write a function that sums the indexes of two lists <br>\n",
    "<p>Ex: [2, 3, 4] + [1, 5, 2] = [3, 8, 6]</p>"
   ]
  },
  {
   "cell_type": "code",
   "execution_count": 15,
   "metadata": {},
   "outputs": [
    {
     "data": {
      "text/plain": [
       "[2, 15, 8]"
      ]
     },
     "execution_count": 15,
     "metadata": {},
     "output_type": "execute_result"
    }
   ],
   "source": [
    "def sum_lists(l1, l2):\n",
    "    output = []\n",
    "    for idx in range(len(l1)):\n",
    "        output.append(l1[idx] + l2[idx])\n",
    "    return output\n",
    "    \n",
    "sum_lists([2, 3, 4], [1, 5, 2])"
   ]
  },
  {
   "cell_type": "code",
   "execution_count": 13,
   "metadata": {},
   "outputs": [
    {
     "data": {
      "text/plain": [
       "[5, 7, 9]"
      ]
     },
     "execution_count": 13,
     "metadata": {},
     "output_type": "execute_result"
    }
   ],
   "source": [
    "sum_lists(l_1, l_2)"
   ]
  },
  {
   "cell_type": "code",
   "execution_count": 14,
   "metadata": {},
   "outputs": [
    {
     "data": {
      "text/plain": [
       "[3, 6, 9, 13, 17]"
      ]
     },
     "execution_count": 14,
     "metadata": {},
     "output_type": "execute_result"
    }
   ],
   "source": [
    "sum_lists([2, 4, 6, 8, 10], [1, 2, 3, 5, 7, 9])"
   ]
  },
  {
   "cell_type": "markdown",
   "metadata": {},
   "source": [
    "#### Importing"
   ]
  },
  {
   "cell_type": "code",
   "execution_count": 18,
   "metadata": {},
   "outputs": [
    {
     "name": "stdout",
     "output_type": "stream",
     "text": [
      "Requirement already satisfied: numpy in c:\\users\\bstan\\anaconda3\\envs\\intro\\lib\\site-packages (1.21.3)\n"
     ]
    }
   ],
   "source": [
    "# always import as np, standard across all of data science\n",
    "!pip install numpy\n",
    "import numpy as np"
   ]
  },
  {
   "cell_type": "code",
   "execution_count": 19,
   "metadata": {},
   "outputs": [
    {
     "data": {
      "text/plain": [
       "<module 'numpy' from 'C:\\\\Users\\\\bstan\\\\anaconda3\\\\envs\\\\intro\\\\lib\\\\site-packages\\\\numpy\\\\__init__.py'>"
      ]
     },
     "execution_count": 19,
     "metadata": {},
     "output_type": "execute_result"
    }
   ],
   "source": [
    "np"
   ]
  },
  {
   "cell_type": "markdown",
   "metadata": {},
   "source": [
    "#### Creating an NDArray <br>\n",
    "<p>NumPy is based around a class called the $\\textit{NDArray}$, which is a flexible vector / matrix class that implements the intuitive matrix and vector arithmatic lacking in basic Python. Let's start by creating some NDArrays:</p>"
   ]
  },
  {
   "cell_type": "markdown",
   "metadata": {},
   "source": [
    "###### - np.array()"
   ]
  },
  {
   "cell_type": "code",
   "execution_count": 40,
   "metadata": {},
   "outputs": [
    {
     "data": {
      "text/plain": [
       "array([ 5, 10, 15])"
      ]
     },
     "execution_count": 40,
     "metadata": {},
     "output_type": "execute_result"
    }
   ],
   "source": [
    "arr1 = np.array([5, 10, 15])\n",
    "arr1"
   ]
  },
  {
   "cell_type": "code",
   "execution_count": 41,
   "metadata": {},
   "outputs": [
    {
     "name": "stdout",
     "output_type": "stream",
     "text": [
      "<class 'numpy.ndarray'>\n"
     ]
    }
   ],
   "source": [
    "print(type(arr1))"
   ]
  },
  {
   "cell_type": "markdown",
   "metadata": {},
   "source": [
    "###### - np.zeros()"
   ]
  },
  {
   "cell_type": "code",
   "execution_count": 42,
   "metadata": {},
   "outputs": [
    {
     "data": {
      "text/plain": [
       "array([[0., 0., 0., 0.],\n",
       "       [0., 0., 0., 0.]])"
      ]
     },
     "execution_count": 42,
     "metadata": {},
     "output_type": "execute_result"
    }
   ],
   "source": [
    "# Shape -- np.zeros() has a parameter of \"shape\" that must be given tuple - (num_rows, num_columns)\n",
    "arr_zeros = np.zeros((2, 4))\n",
    "arr_zeros"
   ]
  },
  {
   "cell_type": "markdown",
   "metadata": {},
   "source": [
    "###### - np.ones()"
   ]
  },
  {
   "cell_type": "code",
   "execution_count": 43,
   "metadata": {},
   "outputs": [
    {
     "data": {
      "text/plain": [
       "array([[1, 1, 1, 1],\n",
       "       [1, 1, 1, 1]])"
      ]
     },
     "execution_count": 43,
     "metadata": {},
     "output_type": "execute_result"
    }
   ],
   "source": [
    "arr_ones = np.ones((2, 4), int)\n",
    "arr_ones\n",
    "# notice no dots after the numbers, because we specified the datatype to be integer"
   ]
  },
  {
   "cell_type": "markdown",
   "metadata": {},
   "source": [
    "###### - np.arange()"
   ]
  },
  {
   "cell_type": "code",
   "execution_count": 49,
   "metadata": {},
   "outputs": [
    {
     "data": {
      "text/plain": [
       "[10, 12, 14, 16, 18]"
      ]
     },
     "execution_count": 49,
     "metadata": {},
     "output_type": "execute_result"
    }
   ],
   "source": [
    "list(range(10, 20, 2))"
   ]
  },
  {
   "cell_type": "code",
   "execution_count": 50,
   "metadata": {},
   "outputs": [
    {
     "data": {
      "text/plain": [
       "array([10, 12, 14, 16, 18])"
      ]
     },
     "execution_count": 50,
     "metadata": {},
     "output_type": "execute_result"
    }
   ],
   "source": [
    "arr_range = np.arange(10, 20, 2)\n",
    "arr_range"
   ]
  },
  {
   "cell_type": "markdown",
   "metadata": {},
   "source": [
    "###### - Making Lists into NDArrays"
   ]
  },
  {
   "cell_type": "code",
   "execution_count": 51,
   "metadata": {},
   "outputs": [
    {
     "data": {
      "text/plain": [
       "array([ 1,  5,  8,  9, 34, 45, 63])"
      ]
     },
     "execution_count": 51,
     "metadata": {},
     "output_type": "execute_result"
    }
   ],
   "source": [
    "my_list = [1, 5, 8, 9, 34, 45, 63]\n",
    "arr_list = np.array(my_list)\n",
    "arr_list"
   ]
  },
  {
   "cell_type": "markdown",
   "metadata": {},
   "source": [
    "#### Performing Calculations on NDArrays"
   ]
  },
  {
   "cell_type": "markdown",
   "metadata": {},
   "source": [
    "###### - Summation"
   ]
  },
  {
   "cell_type": "code",
   "execution_count": 64,
   "metadata": {
    "scrolled": true
   },
   "outputs": [
    {
     "data": {
      "text/plain": [
       "array([15, 30, 45, 60, 75])"
      ]
     },
     "execution_count": 64,
     "metadata": {},
     "output_type": "execute_result"
    }
   ],
   "source": [
    "arr_list1 = np.array([5,10,15,20,25])\n",
    "arr_list2 = np.array([10,20,30,40,50])\n",
    "\n",
    "result_sum = arr_list1 + arr_list2\n",
    "result_sum"
   ]
  },
  {
   "cell_type": "markdown",
   "metadata": {},
   "source": [
    "###### - Difference"
   ]
  },
  {
   "cell_type": "code",
   "execution_count": 65,
   "metadata": {},
   "outputs": [
    {
     "data": {
      "text/plain": [
       "array([ 5, 10, 15, 20, 25])"
      ]
     },
     "execution_count": 65,
     "metadata": {},
     "output_type": "execute_result"
    }
   ],
   "source": [
    "result_diff = arr_list2 - arr_list1\n",
    "result_diff"
   ]
  },
  {
   "cell_type": "markdown",
   "metadata": {},
   "source": [
    "###### - Multiplication"
   ]
  },
  {
   "cell_type": "code",
   "execution_count": 66,
   "metadata": {},
   "outputs": [
    {
     "data": {
      "text/plain": [
       "array([  50,  200,  450,  800, 1250])"
      ]
     },
     "execution_count": 66,
     "metadata": {},
     "output_type": "execute_result"
    }
   ],
   "source": [
    "result_prod = arr_list1 * arr_list2\n",
    "result_prod"
   ]
  },
  {
   "cell_type": "markdown",
   "metadata": {},
   "source": [
    "###### - Division"
   ]
  },
  {
   "cell_type": "code",
   "execution_count": 67,
   "metadata": {},
   "outputs": [
    {
     "data": {
      "text/plain": [
       "array([2., 2., 2., 2., 2.])"
      ]
     },
     "execution_count": 67,
     "metadata": {},
     "output_type": "execute_result"
    }
   ],
   "source": [
    "result_div = arr_list2 / arr_list1\n",
    "result_div"
   ]
  },
  {
   "cell_type": "markdown",
   "metadata": {},
   "source": [
    "#### Modulo"
   ]
  },
  {
   "cell_type": "code",
   "execution_count": 68,
   "metadata": {},
   "outputs": [
    {
     "data": {
      "text/plain": [
       "array([0, 0, 0, 0, 0], dtype=int32)"
      ]
     },
     "execution_count": 68,
     "metadata": {},
     "output_type": "execute_result"
    }
   ],
   "source": [
    "result_mod = arr_list2 % arr_list1\n",
    "result_mod"
   ]
  },
  {
   "cell_type": "markdown",
   "metadata": {},
   "source": [
    "#### Floor Division"
   ]
  },
  {
   "cell_type": "code",
   "execution_count": 69,
   "metadata": {},
   "outputs": [
    {
     "data": {
      "text/plain": [
       "array([2, 2, 2, 2, 2], dtype=int32)"
      ]
     },
     "execution_count": 69,
     "metadata": {},
     "output_type": "execute_result"
    }
   ],
   "source": [
    "result_floor = arr_list2 // arr_list1\n",
    "result_floor"
   ]
  },
  {
   "cell_type": "markdown",
   "metadata": {},
   "source": [
    "#### Exponents"
   ]
  },
  {
   "cell_type": "code",
   "execution_count": 73,
   "metadata": {},
   "outputs": [
    {
     "data": {
      "text/plain": [
       "array([   25,  1000, 50625,  8000,   625], dtype=int32)"
      ]
     },
     "execution_count": 73,
     "metadata": {},
     "output_type": "execute_result"
    }
   ],
   "source": [
    "result_exp = arr_list1 ** np.array([2, 3, 4, 3, 2])\n",
    "result_exp"
   ]
  },
  {
   "cell_type": "code",
   "execution_count": 78,
   "metadata": {},
   "outputs": [
    {
     "name": "stdout",
     "output_type": "stream",
     "text": [
      "[1 2 3]\n",
      "[0 1 2 3 4 5 6 7 8 9]\n"
     ]
    },
    {
     "ename": "ValueError",
     "evalue": "operands could not be broadcast together with shapes (3,) (10,) ",
     "output_type": "error",
     "traceback": [
      "\u001b[1;31m---------------------------------------------------------------------------\u001b[0m",
      "\u001b[1;31mValueError\u001b[0m                                Traceback (most recent call last)",
      "\u001b[1;32m<ipython-input-78-48d65761259b>\u001b[0m in \u001b[0;36m<module>\u001b[1;34m\u001b[0m\n\u001b[0;32m      5\u001b[0m \u001b[0mprint\u001b[0m\u001b[1;33m(\u001b[0m\u001b[0mlong_list\u001b[0m\u001b[1;33m)\u001b[0m\u001b[1;33m\u001b[0m\u001b[1;33m\u001b[0m\u001b[0m\n\u001b[0;32m      6\u001b[0m \u001b[1;33m\u001b[0m\u001b[0m\n\u001b[1;32m----> 7\u001b[1;33m \u001b[0mshort_list\u001b[0m \u001b[1;33m+\u001b[0m \u001b[0mlong_list\u001b[0m\u001b[1;33m\u001b[0m\u001b[1;33m\u001b[0m\u001b[0m\n\u001b[0m",
      "\u001b[1;31mValueError\u001b[0m: operands could not be broadcast together with shapes (3,) (10,) "
     ]
    }
   ],
   "source": [
    "short_list = np.array([1, 2, 3])\n",
    "long_list = np.arange(10)\n",
    "\n",
    "print(short_list)\n",
    "print(long_list)\n",
    "\n",
    "short_list + long_list"
   ]
  },
  {
   "cell_type": "markdown",
   "metadata": {},
   "source": [
    "#### Numpy Subsetting"
   ]
  },
  {
   "cell_type": "code",
   "execution_count": null,
   "metadata": {},
   "outputs": [],
   "source": [
    "# result3 <= 800\n",
    "print(result_mul <= 800)\n",
    "print(result_mul[result_mul <= 800])\n",
    "\n",
    "# test_ndStrings = np.array(['Bob','Mark','Angelica','Barb'])\n",
    "# print(test_ndStrings[test_ndStrings[0] == 'B'])\n",
    "\n",
    "# conditioal check, returns true or false\n",
    "# print(arr1 < 2)\n",
    "# print(arr2 >= 2)\n",
    "\n",
    "# conditional check, that returns the elements that meet the given condition\n"
   ]
  },
  {
   "cell_type": "code",
   "execution_count": 80,
   "metadata": {},
   "outputs": [
    {
     "name": "stdout",
     "output_type": "stream",
     "text": [
      "[  50  200  450  800 1250]\n",
      "[False False False  True  True]\n"
     ]
    }
   ],
   "source": [
    "print(result_prod)\n",
    "print(result_prod > 500)"
   ]
  },
  {
   "cell_type": "code",
   "execution_count": 82,
   "metadata": {},
   "outputs": [
    {
     "data": {
      "text/plain": [
       "array([ 800, 1250])"
      ]
     },
     "execution_count": 82,
     "metadata": {},
     "output_type": "execute_result"
    }
   ],
   "source": [
    "# subset an array with a conditional\n",
    "result_prod[result_prod > 500]"
   ]
  },
  {
   "cell_type": "code",
   "execution_count": 86,
   "metadata": {},
   "outputs": [
    {
     "name": "stdout",
     "output_type": "stream",
     "text": [
      "['Bob' 'Mark' 'Angelica' 'Barb']\n",
      "False\n",
      "Bob\n"
     ]
    }
   ],
   "source": [
    "test_ndStrings = np.array(['Bob','Mark','Angelica','Barb'])\n",
    "print(test_ndStrings)\n",
    "print(test_ndStrings[0] == 'B')\n",
    "print(test_ndStrings[0])\n",
    "# print(test_ndStrings[test_ndStrings[0] == 'B'])"
   ]
  },
  {
   "cell_type": "markdown",
   "metadata": {},
   "source": [
    "#### Multi-dimensional Arrays <br>\n",
    "<p>NumPy seamlessly supports multidimensional arrays and matrices of arbitrary dimension without nesting NDArrays. NDArrays themselves are flexible and extensible and may be defined with such dimensions, with a rich API of common functions to facilitate their use. Let's start by building a two dimensional 3x3 matrix by conversion from a nested group of core python lists $M = [l_0, l_1, l_2]$:</p>"
   ]
  },
  {
   "cell_type": "code",
   "execution_count": 92,
   "metadata": {},
   "outputs": [
    {
     "name": "stdout",
     "output_type": "stream",
     "text": [
      "[[0, 1, 2], [3, 4, 5], [6, 7, 8]]\n",
      "4\n",
      "NDArray Structure:\n",
      "[[0 1 2]\n",
      " [3 4 5]\n",
      " [6 7 8]]\n"
     ]
    },
    {
     "data": {
      "text/plain": [
       "array([[0, 1, 2],\n",
       "       [3, 4, 5],\n",
       "       [6, 7, 8]])"
      ]
     },
     "execution_count": 92,
     "metadata": {},
     "output_type": "execute_result"
    }
   ],
   "source": [
    "aList = [0,1,2]\n",
    "bList = [3,4,5]\n",
    "cList = [6,7,8]\n",
    "\n",
    "# first step: convert lists into a Matrix\n",
    "M = [aList, bList, cList]\n",
    "print(M)\n",
    "print(M[1][1])\n",
    "# second step: place Matrix inside NDArray\n",
    "ND_M = np.array(M)\n",
    "print(f\"NDArray Structure:\\n{ND_M}\")\n",
    "ND_M"
   ]
  },
  {
   "cell_type": "code",
   "execution_count": 93,
   "metadata": {},
   "outputs": [
    {
     "name": "stdout",
     "output_type": "stream",
     "text": [
      "<class 'numpy.ndarray'>\n"
     ]
    }
   ],
   "source": [
    "print(type(ND_M))"
   ]
  },
  {
   "cell_type": "markdown",
   "metadata": {},
   "source": [
    "#### Indexing NDArrays <br>\n",
    "<p> Similar to lists within lists; however, the syntax looks more like C programming language.... It is [1, 2] to access the second row, third element.</p>"
   ]
  },
  {
   "cell_type": "code",
   "execution_count": 94,
   "metadata": {},
   "outputs": [
    {
     "name": "stdout",
     "output_type": "stream",
     "text": [
      "4\n"
     ]
    }
   ],
   "source": [
    "print(ND_M[1,1])"
   ]
  },
  {
   "cell_type": "markdown",
   "metadata": {},
   "source": [
    "#### Assigning Values in NDArrays"
   ]
  },
  {
   "cell_type": "code",
   "execution_count": 96,
   "metadata": {},
   "outputs": [
    {
     "data": {
      "text/plain": [
       "array([[ 0,  1,  2],\n",
       "       [ 3, 44,  5],\n",
       "       [ 6,  7,  8]])"
      ]
     },
     "execution_count": 96,
     "metadata": {},
     "output_type": "execute_result"
    }
   ],
   "source": [
    "ND_M[1,1] = 44\n",
    "\n",
    "ND_M"
   ]
  },
  {
   "cell_type": "markdown",
   "metadata": {},
   "source": [
    "#### Checking NDArray Type"
   ]
  },
  {
   "cell_type": "code",
   "execution_count": 98,
   "metadata": {},
   "outputs": [
    {
     "data": {
      "text/plain": [
       "dtype('int32')"
      ]
     },
     "execution_count": 98,
     "metadata": {},
     "output_type": "execute_result"
    }
   ],
   "source": [
    "# usind the .dtype property\n",
    "ND_M.dtype"
   ]
  },
  {
   "cell_type": "markdown",
   "metadata": {},
   "source": [
    "#### Altering NDArray Type"
   ]
  },
  {
   "cell_type": "code",
   "execution_count": 106,
   "metadata": {},
   "outputs": [
    {
     "name": "stdout",
     "output_type": "stream",
     "text": [
      "int32\n",
      "[[ 0  1  2]\n",
      " [ 3 44  5]\n",
      " [ 6  7  8]]\n",
      "float32\n",
      "[[ 0.  1.  2.]\n",
      " [ 3. 44.  5.]\n",
      " [ 6.  7.  8.]]\n"
     ]
    }
   ],
   "source": [
    "print(ND_M.dtype)\n",
    "print(ND_M)\n",
    "\n",
    "changed = ND_M.astype(np.float32)\n",
    "\n",
    "print(changed.dtype)\n",
    "print(changed)"
   ]
  },
  {
   "cell_type": "markdown",
   "metadata": {},
   "source": [
    "#### Checking the Shape <br>\n",
    "<p>The behavior and properties of an NDArray are often sensitively dependent on the $\\textit{shape}$ of the NDArray itself. The shape of an array can be found by calling the .shape method, which will return a tuple containing the array's dimensions:</p>"
   ]
  },
  {
   "cell_type": "code",
   "execution_count": 108,
   "metadata": {},
   "outputs": [
    {
     "data": {
      "text/plain": [
       "(3, 3)"
      ]
     },
     "execution_count": 108,
     "metadata": {},
     "output_type": "execute_result"
    }
   ],
   "source": [
    "# Checking the Shape of the ND_M Numpy Array\n",
    "# Using the method .shape\n",
    "ND_M.shape"
   ]
  },
  {
   "cell_type": "markdown",
   "metadata": {},
   "source": [
    "#### Altering the Shape <br>\n",
    "<p>As long as the number of elements remains fixed, we can reshape NDArrays at will:</p>"
   ]
  },
  {
   "cell_type": "code",
   "execution_count": 109,
   "metadata": {},
   "outputs": [
    {
     "data": {
      "text/plain": [
       "array([[ 0],\n",
       "       [ 1],\n",
       "       [ 2],\n",
       "       [ 3],\n",
       "       [44],\n",
       "       [ 5],\n",
       "       [ 6],\n",
       "       [ 7],\n",
       "       [ 8]])"
      ]
     },
     "execution_count": 109,
     "metadata": {},
     "output_type": "execute_result"
    }
   ],
   "source": [
    "# Change the shape of the numpy array\n",
    "# Using the method .reshape()\n",
    "\n",
    "# The reshape should be a multiple of the original shape\n",
    "# Meaning we can have a shape of (1,9) or (9,1) or (3,3)\n",
    "\n",
    "# (9,1) == 9 rows , 1 column\n",
    "\n",
    "reshaped = ND_M.reshape( (9, 1) )\n",
    "\n",
    "reshaped"
   ]
  },
  {
   "cell_type": "code",
   "execution_count": 110,
   "metadata": {},
   "outputs": [
    {
     "data": {
      "text/plain": [
       "array([[ 0,  1,  2,  3, 44,  5,  6,  7,  8]])"
      ]
     },
     "execution_count": 110,
     "metadata": {},
     "output_type": "execute_result"
    }
   ],
   "source": [
    "# keep in mind that the shape numbers do matter, (9, 1) is different than (1, 9)\n",
    "reshaped2 = ND_M.reshape( (1, 9) )\n",
    "\n",
    "reshaped2"
   ]
  },
  {
   "cell_type": "code",
   "execution_count": 114,
   "metadata": {},
   "outputs": [
    {
     "ename": "ValueError",
     "evalue": "cannot reshape array of size 9 into shape (2,4)",
     "output_type": "error",
     "traceback": [
      "\u001b[1;31m---------------------------------------------------------------------------\u001b[0m",
      "\u001b[1;31mValueError\u001b[0m                                Traceback (most recent call last)",
      "\u001b[1;32m<ipython-input-114-00b00205ca47>\u001b[0m in \u001b[0;36m<module>\u001b[1;34m\u001b[0m\n\u001b[1;32m----> 1\u001b[1;33m \u001b[0mND_M\u001b[0m\u001b[1;33m.\u001b[0m\u001b[0mreshape\u001b[0m\u001b[1;33m(\u001b[0m\u001b[1;33m(\u001b[0m\u001b[1;36m2\u001b[0m\u001b[1;33m,\u001b[0m \u001b[1;36m4\u001b[0m\u001b[1;33m)\u001b[0m\u001b[1;33m)\u001b[0m\u001b[1;33m\u001b[0m\u001b[1;33m\u001b[0m\u001b[0m\n\u001b[0m",
      "\u001b[1;31mValueError\u001b[0m: cannot reshape array of size 9 into shape (2,4)"
     ]
    }
   ],
   "source": [
    "# ND_M.reshape((2, 4))"
   ]
  },
  {
   "cell_type": "markdown",
   "metadata": {},
   "source": [
    "#### In-Class Exercise #2 - Create a matrix of range 0 up to 16 and reshape it into a 4x4 matrice"
   ]
  },
  {
   "cell_type": "code",
   "execution_count": 115,
   "metadata": {},
   "outputs": [
    {
     "data": {
      "text/plain": [
       "array([[ 0,  1,  2,  3],\n",
       "       [ 4,  5,  6,  7],\n",
       "       [ 8,  9, 10, 11],\n",
       "       [12, 13, 14, 15]])"
      ]
     },
     "execution_count": 115,
     "metadata": {},
     "output_type": "execute_result"
    }
   ],
   "source": [
    "\"\"\"\n",
    "array([[ 0,  1,  2,  3],\n",
    "   [ 4,  5,  6,  7],\n",
    "   [ 8,  9, 10, 11],\n",
    "   [12, 13, 14, 15]])\n",
    "\"\"\"\n",
    "answer = np.arange(16).reshape((4, 4))\n",
    "answer"
   ]
  },
  {
   "cell_type": "markdown",
   "metadata": {},
   "source": [
    "#### Complex Indexing & Assinging"
   ]
  },
  {
   "cell_type": "code",
   "execution_count": 123,
   "metadata": {},
   "outputs": [
    {
     "name": "stdout",
     "output_type": "stream",
     "text": [
      "[8, 7, 6, 5, 4, 3, 2, 1]\n"
     ]
    }
   ],
   "source": [
    "my_list = [1, 2, 3, 4, 5, 6, 7, 8]\n",
    "print(my_list[::-1])"
   ]
  },
  {
   "cell_type": "code",
   "execution_count": 134,
   "metadata": {},
   "outputs": [
    {
     "name": "stdout",
     "output_type": "stream",
     "text": [
      "Setting Matrix\n",
      "Before Assignment:\n",
      "[[0. 0. 0. 0. 0. 0.]\n",
      " [0. 0. 0. 0. 0. 0.]\n",
      " [0. 0. 0. 0. 0. 0.]\n",
      " [0. 0. 0. 0. 0. 0.]\n",
      " [0. 0. 0. 0. 0. 0.]\n",
      " [0. 0. 0. 0. 0. 0.]]\n",
      "\n",
      "After assigning 1 to first column:\n",
      "[[1. 0. 0. 0. 0. 0.]\n",
      " [1. 0. 0. 0. 0. 0.]\n",
      " [1. 0. 0. 0. 0. 0.]\n",
      " [1. 0. 0. 0. 0. 0.]\n",
      " [1. 0. 0. 0. 0. 0.]\n",
      " [1. 0. 0. 0. 0. 0.]]\n",
      "\n",
      "After assigning 5 to rows 3 and 4:\n",
      "[[1. 0. 0. 0. 0. 0.]\n",
      " [1. 0. 0. 0. 0. 0.]\n",
      " [5. 5. 5. 5. 5. 5.]\n",
      " [5. 5. 5. 5. 5. 5.]\n",
      " [1. 0. 0. 0. 0. 0.]\n",
      " [1. 0. 0. 0. 0. 0.]]\n",
      "\n",
      "Resetting Matrix:\n",
      "[[0. 0. 0. 0. 0. 0.]\n",
      " [0. 0. 0. 0. 0. 0.]\n",
      " [0. 0. 0. 0. 0. 0.]\n",
      " [0. 0. 0. 0. 0. 0.]\n",
      " [0. 0. 0. 0. 0. 0.]\n",
      " [0. 0. 0. 0. 0. 0.]]\n",
      "\n",
      "After assigning 3 to every other column:\n",
      "[[3. 0. 3. 0. 3. 0.]\n",
      " [3. 0. 3. 0. 3. 0.]\n",
      " [3. 0. 3. 0. 3. 0.]\n",
      " [3. 0. 3. 0. 3. 0.]\n",
      " [3. 0. 3. 0. 3. 0.]\n",
      " [3. 0. 3. 0. 3. 0.]]\n",
      "\n",
      "After assinging vector to last row:\n",
      "[[3. 0. 3. 0. 3. 0.]\n",
      " [3. 0. 3. 0. 3. 0.]\n",
      " [3. 0. 3. 0. 3. 0.]\n",
      " [3. 0. 3. 0. 3. 0.]\n",
      " [3. 0. 3. 0. 3. 0.]\n",
      " [1. 2. 3. 4. 5. 6.]]\n"
     ]
    }
   ],
   "source": [
    "print('Setting Matrix')\n",
    "M = np.zeros((6, 6))\n",
    "print('Before Assignment:')\n",
    "print(M)\n",
    "\n",
    "# Set the first column to 1\n",
    "M[:, 0] = 1\n",
    "print(\"\\nAfter assigning 1 to first column:\")\n",
    "print(M)\n",
    "\n",
    "# Set rows 3 and 4 to be 5\n",
    "M[2:4, :] = 5\n",
    "print(\"\\nAfter assigning 5 to rows 3 and 4:\")\n",
    "print(M)\n",
    "\n",
    "# Reset Matrix\n",
    "M = M * 0\n",
    "print(\"\\nResetting Matrix:\")\n",
    "print(M)\n",
    "\n",
    "# Set every other column to 3\n",
    "M[:, ::2] = 3\n",
    "print(\"\\nAfter assigning 3 to every other column:\")\n",
    "print(M)\n",
    "\n",
    "# Set the bottom row to be 1, 2, 3, 4, 5, 6\n",
    "v = np.arange(1,7)\n",
    "M[-1, :] = v\n",
    "print(\"\\nAfter assinging vector to last row:\")\n",
    "print(M)"
   ]
  },
  {
   "cell_type": "code",
   "execution_count": null,
   "metadata": {},
   "outputs": [],
   "source": []
  },
  {
   "cell_type": "markdown",
   "metadata": {},
   "source": [
    "#### Elementwise Multiplication"
   ]
  },
  {
   "cell_type": "markdown",
   "metadata": {},
   "source": [
    "<p>As long as the shapes of NDArrays are 'compatible', they can be multiplied elementwise, broadcasted, used in inner products, and much much more. 'Compatible' in this context can mean compatible in the linear algebraic sense, i.e. for inner products and other matrix multiplication, or simply sharing a dimension in such a manner that broadcasting 'makes sense'. Here are some examples of this:</p>"
   ]
  },
  {
   "cell_type": "code",
   "execution_count": 138,
   "metadata": {},
   "outputs": [
    {
     "name": "stdout",
     "output_type": "stream",
     "text": [
      "[[0 1 2]\n",
      " [3 4 5]\n",
      " [6 7 8]]\n",
      "[ 5 10 15]\n"
     ]
    }
   ],
   "source": [
    "arr1 = np.arange(9).reshape((3, 3))\n",
    "print(arr1)\n",
    "\n",
    "arr2 = np.array([5, 10, 15])\n",
    "print(arr2)\n",
    "\n"
   ]
  },
  {
   "cell_type": "code",
   "execution_count": 139,
   "metadata": {
    "scrolled": true
   },
   "outputs": [
    {
     "name": "stdout",
     "output_type": "stream",
     "text": [
      "[[  0  10  30]\n",
      " [ 15  40  75]\n",
      " [ 30  70 120]]\n"
     ]
    }
   ],
   "source": [
    "arr3 = arr1 * arr2\n",
    "print(arr3)"
   ]
  },
  {
   "cell_type": "code",
   "execution_count": 142,
   "metadata": {},
   "outputs": [
    {
     "data": {
      "text/plain": [
       "array([[ 0,  4,  6],\n",
       "       [12, 12, 10],\n",
       "       [30, 21, 16]])"
      ]
     },
     "execution_count": 142,
     "metadata": {},
     "output_type": "execute_result"
    }
   ],
   "source": [
    "arr4 = np.array([[2, 4, 3], [4, 3, 2], [5, 3, 2]])\n",
    "\n",
    "arr1 * arr4"
   ]
  },
  {
   "cell_type": "markdown",
   "metadata": {},
   "source": [
    "#### np.where() <br>\n",
    "<p>If statement within NDArrays that allows you to run conditionals on the entire array</p>"
   ]
  },
  {
   "cell_type": "code",
   "execution_count": 149,
   "metadata": {},
   "outputs": [
    {
     "name": "stdout",
     "output_type": "stream",
     "text": [
      "[  50  200  450  800 1250]\n",
      "[False False False  True  True]\n",
      "(array([3, 4], dtype=int64),)\n",
      "[ 800 1250]\n",
      "[ 300  300  300  800 1250]\n"
     ]
    }
   ],
   "source": [
    "print(result_prod)\n",
    "print(result_prod > 500)\n",
    "print(np.where(result_prod > 500))\n",
    "\n",
    "print(result_prod[np.where(result_prod > 500)])\n",
    "\n",
    "# Use the where to transform data\n",
    "result_prod[np.where(result_prod < 500)] = 300\n",
    "print(result_prod)"
   ]
  },
  {
   "cell_type": "markdown",
   "metadata": {},
   "source": [
    "#### Random Sampling <br>\n",
    "<p>NumPy provides machinery to work with random numbers - something often needed in a broad spectrum of data science applications.</p>"
   ]
  },
  {
   "cell_type": "code",
   "execution_count": 222,
   "metadata": {},
   "outputs": [
    {
     "name": "stdout",
     "output_type": "stream",
     "text": [
      "Here is a random number: 0.8822586783592099\n",
      "Here is a random number between 0 and 1 Million: 720485.6798908623\n",
      "Here are 5 random numbers between 0 and 10: [9.07981071 9.40105171 5.75715021 5.08506642 7.25925048]\n",
      "Here is a 3x3 matrix with numbers between 0 and 10: \n",
      " [[9.34045819 7.53520078 6.07767176]\n",
      " [8.89666569 2.87906434 7.90102384]\n",
      " [8.99127309 1.15297403 9.27655784]]\n"
     ]
    }
   ],
   "source": [
    "# np.random.uniform()\n",
    "\n",
    "# A single call generates a single random number between 0 and 1\n",
    "\n",
    "print('Here is a random number: %s' % np.random.uniform())\n",
    "\n",
    "# You can also pass some parameters or bounds\n",
    "\n",
    "print('Here is a random number between 0 and 1 Million: %s' % np.random.uniform(0, 1e6))\n",
    "\n",
    "# You can also generate a bunch of random numbers all at once\n",
    "\n",
    "print('Here are 5 random numbers between 0 and 10: %s' % np.random.uniform(0, 10, 5))\n",
    "\n",
    "# Even matrices with shapes as a parameter\n",
    "\n",
    "print('Here is a 3x3 matrix with numbers between 0 and 10: \\n %s' % np.random.uniform(0, 10, (3, 3)))"
   ]
  },
  {
   "cell_type": "code",
   "execution_count": 281,
   "metadata": {},
   "outputs": [
    {
     "data": {
      "text/plain": [
       "array([[10, 11, 12, 14],\n",
       "       [12, 10, 11, 12],\n",
       "       [10, 14, 11, 11],\n",
       "       [13, 11, 12, 11]])"
      ]
     },
     "execution_count": 281,
     "metadata": {},
     "output_type": "execute_result"
    }
   ],
   "source": [
    "np.random.randint(10, 15, (4,4))"
   ]
  },
  {
   "cell_type": "markdown",
   "metadata": {},
   "source": [
    "## Working With CSV's"
   ]
  },
  {
   "cell_type": "markdown",
   "metadata": {},
   "source": [
    "#### Imports"
   ]
  },
  {
   "cell_type": "code",
   "execution_count": 282,
   "metadata": {},
   "outputs": [],
   "source": [
    "import csv"
   ]
  },
  {
   "cell_type": "markdown",
   "metadata": {},
   "source": [
    "#### Reading a CSV"
   ]
  },
  {
   "cell_type": "code",
   "execution_count": 286,
   "metadata": {},
   "outputs": [],
   "source": [
    "# Creating Function to open and read CSV data\n",
    "def open_csv(filename, d=','):\n",
    "    # Create empty list that will eventually hold all data\n",
    "    data = []\n",
    "    \n",
    "    # Open the file\n",
    "    with open(filename) as marathon_data:\n",
    "        # Read the file with the csv reader -> Reader Object\n",
    "        marathon_reader = csv.reader(marathon_data, delimiter=d)\n",
    "        \n",
    "        # Loop over the reader and append each row to data list\n",
    "        for row in marathon_reader:\n",
    "            data.append(row)\n",
    "            \n",
    "    # return data list after file has been closed\n",
    "    return data\n"
   ]
  },
  {
   "cell_type": "code",
   "execution_count": 287,
   "metadata": {
    "scrolled": true
   },
   "outputs": [
    {
     "name": "stdout",
     "output_type": "stream",
     "text": [
      "[['10K', '15K', '20K', '25K', '30K', '35K', '40K', '5K', 'Age', 'Bib', 'Overall Time in Seconds', 'Citizenship', 'Male Average Times', 'Females Average Times', 'City', 'Country', 'Division', 'Gender', 'Half', 'M/F', 'Name', 'Number of Records', 'Official Time', 'Overall', 'Pace', 'State'], ['12/30/1899 12:30:28 AM', '12/30/1899 12:45:44 AM', '12/30/1899 1:01:15 AM', '12/30/1899 1:16:59 AM', '12/30/1899 1:33:01 AM', '12/30/1899 1:48:19 AM', '12/30/1899 2:02:53 AM', '12/30/1899 12:15:25 AM', '24', '11', '7777', 'KEN', '7777', '', 'Keringet', 'KEN', '1', '1', '12/30/1899 1:04:35 AM', 'M', 'Kirui, Geoffrey', '1', '12/30/1899 2:09:37 AM', '1', '12/30/1899 12:04:57 AM', ''], ['12/30/1899 12:30:27 AM', '12/30/1899 12:45:44 AM', '12/30/1899 1:01:15 AM', '12/30/1899 1:16:59 AM', '12/30/1899 1:33:01 AM', '12/30/1899 1:48:19 AM', '12/30/1899 2:03:14 AM', '12/30/1899 12:15:24 AM', '30', '17', '7798', 'USA', '7798', '', 'Portland', 'USA', '2', '2', '12/30/1899 1:04:35 AM', 'M', 'Rupp, Galen', '1', '12/30/1899 2:09:58 AM', '2', '12/30/1899 12:04:58 AM', 'OR'], ['12/30/1899 12:30:29 AM', '12/30/1899 12:45:44 AM', '12/30/1899 1:01:16 AM', '12/30/1899 1:17:00 AM', '12/30/1899 1:33:01 AM', '12/30/1899 1:48:31 AM', '12/30/1899 2:03:38 AM', '12/30/1899 12:15:25 AM', '25', '23', '7828', 'JPN', '7828', '', 'Machida-City', 'JPN', '3', '3', '12/30/1899 1:04:36 AM', 'M', 'Osako, Suguru', '1', '12/30/1899 2:10:28 AM', '3', '12/30/1899 12:04:59 AM', ''], ['12/30/1899 12:30:29 AM', '12/30/1899 12:45:44 AM', '12/30/1899 1:01:19 AM', '12/30/1899 1:17:00 AM', '12/30/1899 1:33:01 AM', '12/30/1899 1:48:58 AM', '12/30/1899 2:04:35 AM', '12/30/1899 12:15:25 AM', '32', '21', '7928', 'USA', '7928', '', 'Mammoth Lakes', 'USA', '4', '4', '12/30/1899 1:04:45 AM', 'M', 'Biwott, Shadrack', '1', '12/30/1899 2:12:08 AM', '4', '12/30/1899 12:05:03 AM', 'CA']]\n"
     ]
    }
   ],
   "source": [
    "marathon_17 = open_csv('./boston_marathon2017_edited.csv')\n",
    "\n",
    "print(marathon_17[:5])"
   ]
  },
  {
   "cell_type": "code",
   "execution_count": null,
   "metadata": {},
   "outputs": [],
   "source": []
  },
  {
   "cell_type": "markdown",
   "metadata": {},
   "source": [
    "#### Loading a CSV's Data "
   ]
  },
  {
   "cell_type": "code",
   "execution_count": 304,
   "metadata": {},
   "outputs": [
    {
     "data": {
      "text/plain": [
       "array([( 1, b'C', b'Christian Vazquez', 26,  99, 345, 324,  43,  94, 18, 2,  5,  32,  7, 2, 17,  64, 0.29 , 0.33 , 0.404, 0.735,  91, 131, 14, 3, 0, 1, 0),\n",
       "       ( 2, b'1B', b'Mitch Moreland', 31, 149, 576, 508,  73, 125, 34, 0, 22,  79,  0, 1, 57, 120, 0.246, 0.326, 0.443, 0.769,  99, 225, 14, 6, 0, 5, 6),\n",
       "       ( 3, b'2B', b'Dustin Pedroia', 33, 105, 463, 406,  46, 119, 19, 0,  7,  62,  4, 3, 49,  48, 0.293, 0.369, 0.392, 0.76 , 100, 159, 11, 2, 2, 4, 4),\n",
       "       ( 4, b'SS', b'Xander Bogaerts', 24, 148, 635, 571,  94, 156, 32, 6, 10,  62, 15, 1, 56, 116, 0.273, 0.343, 0.403, 0.746,  95, 230, 17, 6, 0, 2, 6),\n",
       "       ( 5, b'3B', b'Rafael Devers', 20,  58, 240, 222,  34,  63, 14, 0, 10,  30,  3, 1, 18,  57, 0.284, 0.338, 0.482, 0.819, 111, 107,  5, 0, 0, 0, 3),\n",
       "       ( 6, b'LF', b'Andrew Benintendi', 22, 151, 658, 573,  84, 155, 26, 1, 20,  90, 20, 5, 70, 112, 0.271, 0.352, 0.424, 0.776, 102, 243, 16, 6, 1, 8, 7),\n",
       "       ( 7, b'CF', b'Jackie Bradley Jr.', 27, 133, 541, 482,  58, 118, 19, 3, 17,  63,  8, 3, 48, 124, 0.245, 0.323, 0.402, 0.726,  89, 194,  8, 9, 0, 2, 4),\n",
       "       ( 8, b'RF', b'Mookie Betts', 24, 153, 712, 628, 101, 166, 46, 2, 24, 102, 26, 3, 77,  79, 0.264, 0.344, 0.459, 0.803, 108, 288,  9, 2, 0, 5, 9),\n",
       "       ( 9, b'DH', b'Hanley Ramirez', 33, 133, 553, 496,  58, 120, 24, 0, 23,  62,  1, 3, 51, 116, 0.242, 0.32 , 0.429, 0.75 ,  94, 213, 15, 6, 0, 0, 8),\n",
       "       (10, b'C', b'Sandy Leon', 28,  85, 301, 271,  32,  61, 14, 0,  7,  39,  0, 0, 25,  74, 0.225, 0.29 , 0.354, 0.644,  68,  96,  5, 1, 1, 3, 1),\n",
       "       (11, b'UT', b'Chris Young', 33,  90, 276, 243,  30,  57, 12, 2,  7,  25,  3, 2, 30,  55, 0.235, 0.322, 0.387, 0.709,  85,  94,  4, 2, 0, 1, 0),\n",
       "       (12, b'3B', b'Deven Marrero', 26,  71, 188, 171,  32,  36,  9, 0,  4,  27,  5, 0, 12,  61, 0.211, 0.259, 0.333, 0.593,  54,  57,  8, 0, 3, 2, 0),\n",
       "       (13, b'2B', b'Eduardo Nunez', 30,  38, 173, 165,  23,  53, 12, 0,  8,  27,  6, 2,  6,  25, 0.321, 0.353, 0.539, 0.892, 128,  89,  3, 2, 0, 0, 0),\n",
       "       (14, b'2B', b'Brock Holt', 29,  64, 164, 140,  20,  28,  6, 0,  0,   7,  2, 1, 19,  34, 0.2  , 0.305, 0.243, 0.548,  47,  34,  3, 3, 0, 2, 0),\n",
       "       (15, b'IF', b'Josh Rutledge', 28,  37, 118, 107,  10,  24,  2, 1,  0,   9,  1, 0,  9,  31, 0.224, 0.297, 0.262, 0.558,  49,  28,  1, 2, 0, 0, 0),\n",
       "       (16, b'3B', b'Pablo Sandoval', 30,  32, 108,  99,  10,  21,  2, 0,  4,  12,  0, 1,  8,  24, 0.212, 0.269, 0.354, 0.622,  61,  35,  4, 0, 0, 1, 0),\n",
       "       (17, b'UT', b'Sam Travis', 23,  33,  83,  76,  13,  20,  6, 0,  0,   1,  1, 0,  6,  23, 0.263, 0.325, 0.342, 0.667,  75,  26,  2, 1, 0, 0, 0),\n",
       "       (18, b'UT', b'Tzu-Wei Lin', 23,  25,  66,  56,   7,  15,  0, 2,  0,   2,  1, 1,  9,  17, 0.268, 0.369, 0.339, 0.709,  88,  19,  0, 0, 1, 0, 0),\n",
       "       (19, b'IF', b'Marco Hernandez', 24,  21,  60,  58,   7,  16,  3, 0,  0,   2,  0, 1,  1,  15, 0.276, 0.3  , 0.328, 0.628,  65,  19,  0, 1, 0, 0, 0),\n",
       "       (20, b'UT', b'Rajai Davis', 36,  17,  38,  36,   7,   9,  2, 0,  0,   2,  3, 1,  1,  13, 0.25 , 0.289, 0.306, 0.595,  56,  11,  2, 1, 0, 0, 0),\n",
       "       (21, b'UT', b'Steve Selsky', 27,   8,   9,   9,   0,   1,  1, 0,  0,   0,  0, 0,  0,   5, 0.111, 0.111, 0.222, 0.333, -16,   2,  0, 0, 0, 0, 0),\n",
       "       (22, b'UT', b'Blake Swihart', 25,   6,   7,   5,   1,   1,  0, 0,  0,   0,  0, 0,  2,   3, 0.2  , 0.429, 0.2  , 0.629,  74,   1,  0, 0, 0, 0, 0),\n",
       "       (23, b'2B', b\"Chase d'Arnaud\", 30,   2,   1,   1,   2,   1,  0, 0,  0,   0,  0, 0,  0,   0, 1.   , 1.   , 1.   , 2.   , 428,   1,  0, 0, 0, 0, 0)],\n",
       "      dtype=[('Rk', '<i4'), ('Pos', 'S25'), ('Name', 'S25'), ('Age', '<i4'), ('G', '<i4'), ('PA', '<i4'), ('AB', '<i4'), ('R', '<i4'), ('H', '<i4'), ('2B', '<i4'), ('3B', '<i4'), ('HR', '<i4'), ('RBI', '<i4'), ('SB', '<i4'), ('CS', '<i4'), ('BB', '<i4'), ('SO', '<i4'), ('BA', '<f4'), ('OBP', '<f4'), ('SLG', '<f4'), ('OPS', '<f4'), ('OPS_1', '<i4'), ('TB', '<i4'), ('GDP', '<i4'), ('HBP', '<i4'), ('SH', '<i4'), ('SF', '<i4'), ('IBB', '<i4')])"
      ]
     },
     "execution_count": 304,
     "metadata": {},
     "output_type": "execute_result"
    }
   ],
   "source": [
    "FIELDS = ['Rk', 'Pos', 'Name', 'Age', 'G', 'PA', 'AB', 'R', 'H', '2B', '3B', 'HR', 'RBI', 'SB', 'CS', \n",
    "          'BB', 'SO', 'BA', 'OBP', 'SLG', 'OPS', 'OPS+', 'TB', 'GDP', 'HBP', 'SH', 'SF', 'IBB']\n",
    "\n",
    "DATATYPES = [('rk', 'i'), ('pos', '|S25'), ('name', '|S25'), ('age', 'i'), ('g', 'i'), ('pa', 'i'), ('ab', 'i'),\n",
    "                ('r', 'i'), ('h', 'i'), ('2b', 'i'), ('3b', 'i'), ('hr', 'i'), ('rbi', 'i'), ('sb', 'i'), ('cs', 'i'),\n",
    "                ('bb', 'i'), ('so', 'i'), ('ba', 'f'), ('obp', 'f'), ('slg', 'f'), ('ops', 'f'), ('opsp', 'i'),\n",
    "                ('tb', 'i'), ('gdp', 'i'), ('hbp', 'i'), ('sh', 'i'), ('sf', 'i'), ('ibb', 'i')]\n",
    "\n",
    "\n",
    "\n",
    "# instead of loading csv normally, let's load it into a numpy array to calculate results on\n",
    "def np_read_csv(filename, d=','):\n",
    "    data = np.genfromtxt(filename, delimiter=d, names=True, dtype=DATATYPES)\n",
    "    return data\n",
    "\n",
    "\n",
    "bs17 = np_read_csv('./redsox_2017_hitting.txt')\n",
    "bs17"
   ]
  },
  {
   "cell_type": "code",
   "execution_count": 305,
   "metadata": {
    "scrolled": true
   },
   "outputs": [
    {
     "name": "stdout",
     "output_type": "stream",
     "text": [
      "<class 'numpy.ndarray'>\n",
      "[('Rk', '<i4'), ('Pos', 'S25'), ('Name', 'S25'), ('Age', '<i4'), ('G', '<i4'), ('PA', '<i4'), ('AB', '<i4'), ('R', '<i4'), ('H', '<i4'), ('2B', '<i4'), ('3B', '<i4'), ('HR', '<i4'), ('RBI', '<i4'), ('SB', '<i4'), ('CS', '<i4'), ('BB', '<i4'), ('SO', '<i4'), ('BA', '<f4'), ('OBP', '<f4'), ('SLG', '<f4'), ('OPS', '<f4'), ('OPS_1', '<i4'), ('TB', '<i4'), ('GDP', '<i4'), ('HBP', '<i4'), ('SH', '<i4'), ('SF', '<i4'), ('IBB', '<i4')]\n"
     ]
    }
   ],
   "source": [
    "print(type(bs17))\n",
    "print(bs17.dtype)"
   ]
  },
  {
   "cell_type": "code",
   "execution_count": 307,
   "metadata": {},
   "outputs": [
    {
     "name": "stdout",
     "output_type": "stream",
     "text": [
      "[b'Christian Vazquez' b'Mitch Moreland' b'Dustin Pedroia'\n",
      " b'Xander Bogaerts' b'Rafael Devers' b'Andrew Benintendi'\n",
      " b'Jackie Bradley Jr.' b'Mookie Betts' b'Hanley Ramirez' b'Sandy Leon'\n",
      " b'Chris Young' b'Deven Marrero' b'Eduardo Nunez' b'Brock Holt'\n",
      " b'Josh Rutledge' b'Pablo Sandoval' b'Sam Travis' b'Tzu-Wei Lin'\n",
      " b'Marco Hernandez' b'Rajai Davis' b'Steve Selsky' b'Blake Swihart'\n",
      " b\"Chase d'Arnaud\"]\n",
      "<class 'numpy.ndarray'>\n"
     ]
    }
   ],
   "source": [
    "names = bs17['Name']\n",
    "print(names)\n",
    "print(type(names))"
   ]
  },
  {
   "cell_type": "code",
   "execution_count": 309,
   "metadata": {},
   "outputs": [
    {
     "name": "stdout",
     "output_type": "stream",
     "text": [
      "[ 94 125 119 156  63 155 118 166 120  61  57  36  53  28  24  21  20  15\n",
      "  16   9   1   1   1]\n",
      "1459\n"
     ]
    }
   ],
   "source": [
    "hits = bs17['H']\n",
    "print(hits)\n",
    "total_hits = sum(hits)\n",
    "print(total_hits)"
   ]
  },
  {
   "cell_type": "markdown",
   "metadata": {},
   "source": [
    "#### Summing the top 5 hitters for HR's"
   ]
  },
  {
   "cell_type": "code",
   "execution_count": 319,
   "metadata": {},
   "outputs": [
    {
     "name": "stdout",
     "output_type": "stream",
     "text": [
      "[('Mookie Betts', 24), ('Hanley Ramirez', 23), ('Mitch Moreland', 22), ('Andrew Benintendi', 20), ('Jackie Bradley Jr.', 17)]\n"
     ]
    }
   ],
   "source": [
    "# find the top 5 hr hitters\n",
    "\n",
    "# Step 1: Get all HR data into a variable\n",
    "# Step 2: Get all the player names into a variable\n",
    "# Step 3: Create a new empty list for decoded names\n",
    "# Step 4: Loop through and decode each name and append to new list\n",
    "# Step 5: Line up our player names with our hr data [(player, number_of_hr), (player2, number_of_hr),...]\n",
    "# Step 6: Sort values based on number of home runs\n",
    "# Step 7: Slice list to first 5\n",
    "\n",
    "# Step 1\n",
    "all_home_runs = bs17['HR']\n",
    "# print(all_home_runs)\n",
    "\n",
    "# Step 2\n",
    "all_players = bs17['Name']\n",
    "# print(all_players)\n",
    "\n",
    "# Step 3\n",
    "clean_names = []\n",
    "\n",
    "# Step 4\n",
    "for name in all_players:\n",
    "    decoded_name = name.decode('utf-8')\n",
    "    clean_names.append(decoded_name)\n",
    "# print(clean_names)\n",
    "\n",
    "# Step 5\n",
    "zipped_values = [(clean_names[i], all_home_runs[i]) for i in range(len(clean_names))]\n",
    "# print(zipped_values)\n",
    "\n",
    "# Step 6\n",
    "sorted_hrs = sorted(zipped_values, key=lambda player: player[1], reverse=True)\n",
    "# print(sorted_hrs)\n",
    "\n",
    "# Step 7\n",
    "top_5 = sorted_hrs[:5]\n",
    "print(top_5)"
   ]
  },
  {
   "cell_type": "markdown",
   "metadata": {
    "collapsed": true
   },
   "source": [
    "# Exercises To Complete.... <br>\n",
    "<p>Given in separate file after completion of this file</p>"
   ]
  }
 ],
 "metadata": {
  "kernelspec": {
   "display_name": "Python 3",
   "language": "python",
   "name": "python3"
  },
  "language_info": {
   "codemirror_mode": {
    "name": "ipython",
    "version": 3
   },
   "file_extension": ".py",
   "mimetype": "text/x-python",
   "name": "python",
   "nbconvert_exporter": "python",
   "pygments_lexer": "ipython3",
   "version": "3.8.5"
  }
 },
 "nbformat": 4,
 "nbformat_minor": 2
}
